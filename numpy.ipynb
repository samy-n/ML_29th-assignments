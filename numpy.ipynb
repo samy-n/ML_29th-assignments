{
 "cells": [
  {
   "cell_type": "markdown",
   "metadata": {},
   "source": [
    "Write a function so that the columns of the output matrix are powers of the input\n",
    "vector.\n",
    "The order of the powers is determined by the increasing boolean argument. Specifically, when\n",
    "increasing is False, the i-th output column is the input vector raised element-wise to the power\n",
    "of N - i - 1.\n",
    "\n",
    "HINT: Such a matrix with a geometric progression in each row is named for Alexandre-\n",
    "Theophile Vandermonde.\n",
    "\n",
    "Note: Solution submitted via github must contain all the detailed steps.\n",
    "\n"
   ]
  },
  {
   "cell_type": "code",
   "execution_count": 63,
   "metadata": {},
   "outputs": [],
   "source": [
    "import numpy as np\n",
    "def vander(x):\n",
    "    N=len(x) #N is length of input vector\n",
    "    vander_mat=np.empty((N,0),int) #initialize a matrix with N rows and 0 columns\n",
    "    x=np.array([x]) # convert into numpy array to perform numpy operations\n",
    "    for i in range(N):\n",
    "        raised_input_vector=x**(N-i-1) #input vector raised element-wise to the power of N - i - 1.\n",
    "        output_column=raised_input_vector.transpose() #i-th output column \n",
    "        vander_mat=np.append(vander_mat,output_column,axis=1) #appended to vander_matrix\n",
    "        \n",
    "        \n",
    "    return vander_mat"
   ]
  },
  {
   "cell_type": "code",
   "execution_count": 64,
   "metadata": {},
   "outputs": [
    {
     "name": "stdout",
     "output_type": "stream",
     "text": [
      "[[  1   1   1   1]\n",
      " [  8   4   2   1]\n",
      " [ 27   9   3   1]\n",
      " [125  25   5   1]]\n"
     ]
    }
   ],
   "source": [
    "print(vander([1,2,3,5]))"
   ]
  },
  {
   "cell_type": "markdown",
   "metadata": {},
   "source": [
    "Problem Statement 2:\n",
    "Given a sequence of n values x1, x2, ..., xn and a window size k>0, the k-th moving average of\n",
    "the given sequence is defined as follows:\n",
    "The moving average sequence has n-k+1 elements as shown below.\n",
    "The moving averages with k=4 of a ten-value sequence (n=10) is shown below\n",
    "i 1 2 3 4 5 6 7 8 9 10\n",
    "===== == == == == == == == == == ==\n",
    "Input 10 20 30 40 50 60 70 80 90 100\n",
    "y1 25 = (10+20+30+40)/4\n",
    "y2 35 = (20+30+40+50)/4\n",
    "y3 45 = (30+40+50+60)/4\n",
    "y4 55 = (40+50+60+70)/4\n",
    "y5 65 = (50+60+70+80)/4\n",
    "y6 75 = (60+70+80+90)/4\n",
    "y7 85 = (70+80+90+100)/4\n",
    "Thus, the moving average sequence has n-k+1=10-4+1=7 values.\n",
    "\n",
    "Question: Write a function to find moving average in an array over a window:\n",
    "Test it over [3, 5, 7, 2, 8, 10, 11, 65, 72, 81, 99, 100, 150] and window of 3."
   ]
  },
  {
   "cell_type": "code",
   "execution_count": 85,
   "metadata": {},
   "outputs": [
    {
     "name": "stdout",
     "output_type": "stream",
     "text": [
      "y1= 5.0\n",
      "y2= 4.666666666666667\n",
      "y3= 5.666666666666667\n",
      "y4= 6.666666666666667\n",
      "y5= 9.666666666666666\n",
      "y6= 28.666666666666668\n",
      "y7= 49.333333333333336\n",
      "y8= 72.66666666666667\n",
      "y9= 84.0\n",
      "y10= 93.33333333333333\n",
      "y11= 116.33333333333333\n"
     ]
    }
   ],
   "source": [
    "def moving_avg(x,k):\n",
    "    x=np.array(x)\n",
    "    upper_limit=len(x)-k+1\n",
    "    for i in range(upper_limit):\n",
    "        print(\"y{}= {}\".format((i+1),np.sum(x[i:i+k])/k))\n",
    "        \n",
    "moving_avg([3, 5, 7, 2, 8, 10, 11, 65, 72, 81, 99, 100, 150],3)"
   ]
  }
 ],
 "metadata": {
  "kernelspec": {
   "display_name": "Python 3",
   "language": "python",
   "name": "python3"
  },
  "language_info": {
   "codemirror_mode": {
    "name": "ipython",
    "version": 3
   },
   "file_extension": ".py",
   "mimetype": "text/x-python",
   "name": "python",
   "nbconvert_exporter": "python",
   "pygments_lexer": "ipython3",
   "version": "3.7.1"
  }
 },
 "nbformat": 4,
 "nbformat_minor": 2
}
